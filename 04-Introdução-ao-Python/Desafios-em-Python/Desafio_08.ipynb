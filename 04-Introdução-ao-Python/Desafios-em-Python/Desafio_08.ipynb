{
 "cells": [
  {
   "cell_type": "markdown",
   "metadata": {
    "colab_type": "text",
    "id": "view-in-github"
   },
   "source": [
    "<a href=\"https://colab.research.google.com/github/WittmannF/br-data-science/blob/master/python/challenges/Desafio_8.ipynb\" target=\"_parent\"><img src=\"https://colab.research.google.com/assets/colab-badge.svg\" alt=\"Open In Colab\"/></a>"
   ]
  },
  {
   "cell_type": "markdown",
   "metadata": {
    "colab_type": "text",
    "id": "o3tkeMDNf6Jo"
   },
   "source": [
    "### Desafio 8\n",
    "\n",
    "Escreva um script Python para encontrar as 10 palavras mais longas em um arquivo.\n",
    "\n",
    "O arquivo TXT está localizado na mesma pasta do projeto (texto.txt)."
   ]
  },
  {
   "cell_type": "code",
   "execution_count": 45,
   "metadata": {
    "colab": {},
    "colab_type": "code",
    "id": "EknxjSG0f6Jo"
   },
   "outputs": [
    {
     "name": "stdout",
     "output_type": "stream",
     "text": [
      "1. Quantidade de letras (15) = {'general-purpose', 'object-oriented'}\n",
      "2. Quantidade de letras (13) = {'intermediate)', 'comprehensive'}\n",
      "3. Quantidade de letras (12) = {'language.Its'}\n",
      "4. Quantidade de letras (11) = {'programmers', 'readability', 'interpreted', 'programming', 'library.The'}\n",
      "5. Quantidade de letras (10) = {'imperative', 'management', 'high-level', 'emphasizes', 'functional', 'philosophy', 'procedural'}\n",
      "6. Quantidade de letras (9) = {'languages', 'styles.It', 'questions', 'including', '(beginner', 'paradigms', 'automatic'}\n",
      "7. Quantidade de letras (8) = {'exercise', 'supports', 'practice', 'concepts', 'features', 'familiar', 'anything', 'possible', 'language', 'standard', 'multiple'}\n",
      "8. Quantidade de letras (7) = {'section', 'express', 'started', 'dynamic'}\n",
      "9. Quantidade de letras (6) = {'design', 'syntax', 'Python', 'allows', 'memory', 'widely', 'system'}\n",
      "10. Quantidade de letras (5) = {'lines', 'learn', 'large', 'fewer', 'those'}\n"
     ]
    }
   ],
   "source": [
    "# Define lista para tamanho das palavras\n",
    "GrWords = []\n",
    "\n",
    "#Comando para abrir o arquivo\n",
    "with open('texto.txt') as file:\n",
    "    data=file.read().split() # Transforma o arquivo em lista\n",
    "\n",
    "    # Lista de simbolos para retirar da ultimo caracter da palavra\n",
    "    simbolos = [';', ':', '!', \"*\", ',', '?', '.'] \n",
    "    \n",
    "    # Le a lista gerada pelo arquivo\n",
    "    for i in range(len(data)): \n",
    "        word = data[i]\n",
    "        #verifica se o ultimo caracter é um simbolo\n",
    "        if word[-1] in simbolos: \n",
    "            # Substitui a caracter por branco\n",
    "            word = ''.join(i for i in word if not i in simbolos) \n",
    "            # atualiza a lista\n",
    "            data[i] = word\n",
    "        # Preenche a lista com o tamanho das palavras do arquivo\n",
    "        GrWords.append(len(word))\n",
    "    \n",
    "    # Ordena a lista do maior para o menor sem repetições\n",
    "    GrWords = sorted(set(GrWords), reverse=True) \n",
    "\n",
    "    # Retorna o numero de caracteres das dez maiores palavras\n",
    "    for i in range(0,10): \n",
    "        # Le a lista de arquivo e compara se a palavra tem a quantidade de caracteres\n",
    "        res=[word for word in data if len(word)==GrWords[i]]\n",
    "        # Contador sequencial\n",
    "        ct = i+1\n",
    "        # apresenta a sequencia a quantidade de letras e as palavras encontradas\n",
    "        print(str(ct)+\". Quantidade de letras (\" + str(GrWords[i]) + \") =\", set(res))\n"
   ]
  },
  {
   "cell_type": "code",
   "execution_count": null,
   "metadata": {
    "colab": {},
    "colab_type": "code",
    "id": "ZYbqEWBG5nKx"
   },
   "outputs": [],
   "source": []
  },
  {
   "cell_type": "code",
   "execution_count": null,
   "metadata": {},
   "outputs": [],
   "source": []
  }
 ],
 "metadata": {
  "anaconda-cloud": {},
  "colab": {
   "include_colab_link": true,
   "name": "Desafio 8.ipynb",
   "provenance": []
  },
  "kernelspec": {
   "display_name": "Python 3",
   "language": "python",
   "name": "python3"
  },
  "language_info": {
   "codemirror_mode": {
    "name": "ipython",
    "version": 3
   },
   "file_extension": ".py",
   "mimetype": "text/x-python",
   "name": "python",
   "nbconvert_exporter": "python",
   "pygments_lexer": "ipython3",
   "version": "3.8.5"
  }
 },
 "nbformat": 4,
 "nbformat_minor": 1
}
