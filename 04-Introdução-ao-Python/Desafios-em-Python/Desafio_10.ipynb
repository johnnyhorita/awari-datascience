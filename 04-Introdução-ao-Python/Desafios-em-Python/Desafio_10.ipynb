{
 "cells": [
  {
   "cell_type": "markdown",
   "metadata": {
    "colab_type": "text",
    "id": "view-in-github"
   },
   "source": [
    "<a href=\"https://colab.research.google.com/github/WittmannF/br-data-science/blob/master/python/challenges/Desafio_10.ipynb\" target=\"_parent\"><img src=\"https://colab.research.google.com/assets/colab-badge.svg\" alt=\"Open In Colab\"/></a>"
   ]
  },
  {
   "cell_type": "markdown",
   "metadata": {
    "colab_type": "text",
    "id": "a4-FLDRof6Jv"
   },
   "source": [
    "### Desafio 10\n",
    "\n",
    "Dada uma lista, divida-a em 3 partes iguais e reverta cada lista.\n",
    "\n",
    "Exemplo: \n",
    "\n",
    "sampleList = [11, 45, 8, 23, 14, 12, 78, 45, 89]\n",
    "\n",
    "Parte 1 [8, 45, 11]\n",
    "\n",
    "Parte 2 [12, 14, 23]\n",
    "\n",
    "Parte 3 [89, 45, 78]"
   ]
  },
  {
   "cell_type": "code",
   "execution_count": 15,
   "metadata": {
    "colab": {},
    "colab_type": "code",
    "id": "IJ70pUjnf6Jw"
   },
   "outputs": [
    {
     "name": "stdout",
     "output_type": "stream",
     "text": [
      "Parte 1 [8, 45, 11] \n",
      "\n",
      "Parte 2 [12, 14, 23] \n",
      "\n",
      "Parte 3 [89, 45, 78] \n",
      "\n",
      "\n",
      "\n",
      "\n",
      "Parte 1 [8, 45, 11]\n",
      "Parte 2 [12, 14, 23]\n",
      "Parte 3 [89, 45, 78]\n"
     ]
    }
   ],
   "source": [
    "# Seu código\n",
    "sampleList = [11, 45, 8, 23, 14, 12, 78, 45, 89]\n",
    "lista = [sampleList[i:i+3] for i in range(0, len(sampleList), 3)]\n",
    "for i in range(3):\n",
    "    lista[i].reverse()   \n",
    "    print ('Parte', i+1, lista[i],'\\n')\n",
    "\n",
    "print ('\\n\\n')\n",
    "#Outra solução\n",
    "divisor = 3\n",
    "def divideLista(seq, num):\n",
    "    med = len(seq) / float(num)\n",
    "    out = []\n",
    "    ult = 0.0\n",
    "    while ult < len(seq):\n",
    "        out.append(seq[int(ult):int(ult + med)])\n",
    "        ult += med\n",
    "    return out\n",
    "lista = (divideLista(sampleList, divisor))\n",
    "\n",
    "for i in range(divisor):\n",
    "    lista[i].reverse()   \n",
    "    print ('Parte', i+1, lista[i])\n",
    "\n",
    "\n",
    "# Testando\n",
    "#print(sampleList[0:3])\n",
    "#print(sampleList[3:6])\n",
    "#print(sampleList[6:9])\n",
    "\n",
    "#length = len(sampleList)\n",
    "#middle_index = length//3\n",
    "#first_half = sampleList[:middle_index]\n",
    "#print(first_half)\n",
    "#second_half = sampleList[middle_index:]\n",
    "#print(second_half)\n",
    "    \n"
   ]
  },
  {
   "cell_type": "code",
   "execution_count": null,
   "metadata": {
    "colab": {},
    "colab_type": "code",
    "id": "pNrXNVqf8Wc1"
   },
   "outputs": [],
   "source": []
  },
  {
   "cell_type": "code",
   "execution_count": null,
   "metadata": {},
   "outputs": [],
   "source": []
  }
 ],
 "metadata": {
  "anaconda-cloud": {},
  "colab": {
   "include_colab_link": true,
   "name": "Desafio 10.ipynb",
   "provenance": []
  },
  "kernelspec": {
   "display_name": "Python 3",
   "language": "python",
   "name": "python3"
  },
  "language_info": {
   "codemirror_mode": {
    "name": "ipython",
    "version": 3
   },
   "file_extension": ".py",
   "mimetype": "text/x-python",
   "name": "python",
   "nbconvert_exporter": "python",
   "pygments_lexer": "ipython3",
   "version": "3.8.5"
  }
 },
 "nbformat": 4,
 "nbformat_minor": 1
}
