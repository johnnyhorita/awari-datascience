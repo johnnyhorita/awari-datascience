{
 "cells": [
  {
   "cell_type": "code",
   "execution_count": 1,
   "metadata": {},
   "outputs": [
    {
     "name": "stdout",
     "output_type": "stream",
     "text": [
      "           data  valor\n",
      "0    01/01/1992  25.84\n",
      "1    01/02/1992  22.17\n",
      "2    01/03/1992  20.74\n",
      "3    01/04/1992  20.14\n",
      "4    01/05/1992  26.93\n",
      "..          ...    ...\n",
      "343  01/08/2020  -0.47\n",
      "344  01/09/2020   0.17\n",
      "345  01/10/2020   0.55\n",
      "346  01/11/2020   0.39\n",
      "347  01/12/2020   0.83\n",
      "\n",
      "[348 rows x 2 columns]\n"
     ]
    }
   ],
   "source": [
    "# Índice de Preços ao Consumidor-Amplo (IPCA) - Serviços\n",
    "# https://dadosabertos.bcb.gov.br/dataset/10844-indice-de-precos-ao-consumidor-amplo-ipca---servicos\n",
    "\n",
    "# Interface json do serviço BCData/SGS - Sistema Gerenciador de Séries Temporais.\n",
    "# json_serie-sgs-10844\n",
    "# https://api.bcb.gov.br/dados/serie/bcdata.sgs.10844/dados?formato=json\n",
    "\n",
    "import json, urllib.request\n",
    "import pandas as pd\n",
    "\n",
    "urlbcb = 'https://api.bcb.gov.br/dados/serie/bcdata.sgs.10844/dados?formato=json'\n",
    "\n",
    "with urllib.request.urlopen(urlbcb) as url:\n",
    "    data = json.loads(url.read().decode())\n",
    "    df = pd.DataFrame(data)\n",
    "    \n",
    "print(df)\n"
   ]
  },
  {
   "cell_type": "code",
   "execution_count": null,
   "metadata": {},
   "outputs": [],
   "source": []
  }
 ],
 "metadata": {
  "kernelspec": {
   "display_name": "Python 3",
   "language": "python",
   "name": "python3"
  },
  "language_info": {
   "codemirror_mode": {
    "name": "ipython",
    "version": 3
   },
   "file_extension": ".py",
   "mimetype": "text/x-python",
   "name": "python",
   "nbconvert_exporter": "python",
   "pygments_lexer": "ipython3",
   "version": "3.8.5"
  }
 },
 "nbformat": 4,
 "nbformat_minor": 4
}
